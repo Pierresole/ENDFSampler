{
 "cells": [
  {
   "cell_type": "code",
   "execution_count": 2,
   "metadata": {},
   "outputs": [],
   "source": [
    "from ENDFSampler import ENDFSampler\n",
    "import importlib\n",
    "import CovarianceResonance\n",
    "importlib.reload(CovarianceResonance)\n",
    "from CovarianceResonance import ResonanceCovariance as RC\n",
    "\n",
    "import CovarianceDataCollector\n",
    "importlib.reload(CovarianceDataCollector)\n",
    "from CovarianceDataCollector import CovarianceDataCollector\n",
    "\n",
    "# Create the collector and specify the HDF5 file\n",
    "collector = CovarianceDataCollector('covariance_data_U238.hdf5')\n",
    "\n",
    "# Assume we have parsed the ENDF file and have the original tape\n",
    "from ENDFtk.tree import Tape\n",
    "\n",
    "# Read the ENDF file\n",
    "# endf_tape = Tape.from_file('/home/sole-pie01/work/ndlib/tendl17-neutron/n-U235-s20.tendl.txt')\n",
    "# endf_tape = Tape.from_file('/home/sole-pie01/work/ndlib/tendl17-neutron/n-U238-s20.tendl17.txt')\n",
    "endf_tape = Tape.from_file('/home/sole-pie01/work/ndlib/tendl23-neutron/n-Fe056.tendl.txt')\n",
    "\n",
    "mf2 = endf_tape.MAT(endf_tape.material_numbers[0]).MF(2).MT(151).parse()\n",
    "mf32 = endf_tape.MAT(endf_tape.material_numbers[0]).MF(32).MT(151).parse()\n",
    "\n",
    "# Create the ResonanceCovariance objects\n",
    "# for NER, mf32_resonance_range in enumerate(mf32.isotopes[0].resonance_ranges.to_list()):\n",
    "    # collector.add_covariance(RC.from_resonance_range(mf32_resonance_range, mf2.isotopes[0].resonance_ranges.to_list(), NER))\n",
    "\n",
    "collector.add_covariance(RC.from_resonance_range(mf32.isotopes[0].resonance_ranges[1], mf2.isotopes[0].resonance_ranges.to_list(), 1))\n",
    "# Close the collector (and the HDF5 file)\n",
    "collector.close()\n"
   ]
  },
  {
   "cell_type": "code",
   "execution_count": 22,
   "metadata": {},
   "outputs": [
    {
     "ename": "TypeError",
     "evalue": "'NoneType' object is not subscriptable",
     "output_type": "error",
     "traceback": [
      "\u001b[0;31m---------------------------------------------------------------------------\u001b[0m",
      "\u001b[0;31mTypeError\u001b[0m                                 Traceback (most recent call last)",
      "Cell \u001b[0;32mIn[22], line 1\u001b[0m\n\u001b[0;32m----> 1\u001b[0m \u001b[43mmf2\u001b[49m\u001b[38;5;241;43m.\u001b[39;49m\u001b[43misotopes\u001b[49m\u001b[43m[\u001b[49m\u001b[38;5;241;43m0\u001b[39;49m\u001b[43m]\u001b[49m\u001b[38;5;241;43m.\u001b[39;49m\u001b[43mresonance_ranges\u001b[49m\u001b[43m[\u001b[49m\u001b[38;5;241;43m1\u001b[39;49m\u001b[43m]\u001b[49m\u001b[38;5;241;43m.\u001b[39;49m\u001b[43mscattering_radius\u001b[49m\u001b[43m[\u001b[49m\u001b[43m:\u001b[49m\u001b[43m]\u001b[49m\n",
      "\u001b[0;31mTypeError\u001b[0m: 'NoneType' object is not subscriptable"
     ]
    }
   ],
   "source": [
    "mf2.isotopes[0].resonance_ranges[1].scattering_radius[:]"
   ]
  },
  {
   "cell_type": "code",
   "execution_count": 10,
   "metadata": {},
   "outputs": [
    {
     "name": "stdout",
     "output_type": "stream",
     "text": [
      "\n",
      "Covariance matrix for NER=0:\n",
      "[[0.0001 0.     0.     0.     0.     0.     0.     0.     0.     0.     0.     0.    ]\n",
      " [0.     0.01   0.     0.     0.     0.     0.     0.     0.     0.     0.     0.    ]\n",
      " [0.     0.     0.0001 0.     0.     0.     0.     0.     0.     0.     0.     0.    ]\n",
      " [0.     0.     0.     0.01   0.     0.     0.     0.     0.     0.     0.     0.    ]\n",
      " [0.     0.     0.     0.     0.0001 0.     0.     0.     0.     0.     0.     0.    ]\n",
      " [0.     0.     0.     0.     0.     0.01   0.     0.     0.     0.     0.     0.    ]\n",
      " [0.     0.     0.     0.     0.     0.     0.0001 0.     0.     0.     0.     0.    ]\n",
      " [0.     0.     0.     0.     0.     0.     0.     0.01   0.     0.     0.     0.    ]\n",
      " [0.     0.     0.     0.     0.     0.     0.     0.     0.0001 0.     0.     0.    ]\n",
      " [0.     0.     0.     0.     0.     0.     0.     0.     0.     0.01   0.     0.    ]\n",
      " [0.     0.     0.     0.     0.     0.     0.     0.     0.     0.     0.0001 0.    ]\n",
      " [0.     0.     0.     0.     0.     0.     0.     0.     0.     0.     0.     0.01  ]]\n",
      "Averaged Breit-Wigner Parameters for NER=1:\n",
      "(L=0, J=3.0):\n",
      "  D: [1.05857  1.058041 1.055928 1.053819 1.051714 1.049614 1.047518 1.045427 1.04334  1.035861 1.031937\n",
      " 1.021683 1.013556 1.011535]\n",
      "  GN: [9.567005e-05 9.555045e-05 9.510382e-05 9.469322e-05 9.430736e-05 9.393996e-05 9.358705e-05\n",
      " 9.324598e-05 9.291483e-05 9.178592e-05 9.122100e-05 8.980820e-05 8.873760e-05 8.847673e-05]\n",
      "(L=0, J=4.0):\n",
      "  D: [0.8710364 0.8706011 0.8688621 0.8671267 0.865395  0.8636668 0.8619422 0.8602212 0.8585038\n",
      " 0.8523504 0.8491212 0.840684  0.8339969 0.8323337]\n",
      "  GN: [7.872136e-05 7.862295e-05 7.825544e-05 7.791758e-05 7.760008e-05 7.729776e-05 7.700738e-05\n",
      " 7.672673e-05 7.645424e-05 7.552533e-05 7.506049e-05 7.389797e-05 7.301703e-05 7.280238e-05]\n",
      "(L=1, J=2.0):\n",
      "  D: [1.420699 1.419989 1.417152 1.414322 1.411497 1.408679 1.405866 1.403059 1.400258 1.390221 1.384954\n",
      " 1.371193 1.360286 1.357573]\n",
      "  GN: [0.00027198 0.00027176 0.00027091 0.00027004 0.00026918 0.00026832 0.00026746 0.0002666  0.00026573\n",
      " 0.00026265 0.00026102 0.00025679 0.00025345 0.00025262]\n",
      "(L=1, J=3.0):\n",
      "  D: [1.05857  1.058041 1.055928 1.053819 1.051714 1.049614 1.047518 1.045427 1.04334  1.035861 1.031937\n",
      " 1.021683 1.013556 1.011535]\n",
      "  GN: [0.00020265 0.00020249 0.00020185 0.00020121 0.00020057 0.00019993 0.00019928 0.00019864 0.000198\n",
      " 0.0001957  0.00019449 0.00019134 0.00018885 0.00018823]\n",
      "(L=1, J=4.0):\n",
      "  D: [0.8710364 0.8706011 0.8688621 0.8671267 0.865395  0.8636668 0.8619422 0.8602212 0.8585038\n",
      " 0.8523504 0.8491212 0.840684  0.8339969 0.8323337]\n",
      "  GN: [0.00016675 0.00016662 0.00016609 0.00016557 0.00016504 0.00016451 0.00016398 0.00016345 0.00016292\n",
      " 0.00016103 0.00016003 0.00015744 0.00015539 0.00015488]\n",
      "(L=1, J=5.0):\n",
      "  D: [0.7646495 0.7642674 0.7627408 0.7612174 0.7596971 0.75818   0.7566661 0.7551553 0.7536476\n",
      " 0.7482457 0.745411  0.7380042 0.7321338 0.7306738]\n",
      "  GN: [0.00014638 0.00014627 0.00014581 0.00014534 0.00014488 0.00014442 0.00014395 0.00014349 0.00014302\n",
      " 0.00014136 0.00014049 0.00013821 0.00013641 0.00013597]\n"
     ]
    }
   ],
   "source": [
    "import CovarianceResonance\n",
    "importlib.reload(CovarianceResonance)\n",
    "from CovarianceResonance import ResonanceCovariance as RC\n",
    "import numpy as np\n",
    "np.set_printoptions(linewidth=100)\n",
    "\n",
    "covariance_obj = RC.from_resonance_range(mf32.isotopes[0].resonance_ranges[1], mf2.isotopes[0].resonance_ranges.to_list(), NER = 1)\n",
    "# Access the covariance matrix and parameters\n",
    "covariance_matrix = covariance_obj.relative_covariance_matrix\n",
    "parameters = covariance_obj.parameters\n",
    "# Use the data as needed\n",
    "print(f\"\\nCovariance matrix for NER={NER}:\\n{covariance_matrix[:, :]}\")\n",
    "covariance_obj.print_parameters()"
   ]
  }
 ],
 "metadata": {
  "kernelspec": {
   "display_name": "endftk",
   "language": "python",
   "name": "python3"
  },
  "language_info": {
   "codemirror_mode": {
    "name": "ipython",
    "version": 3
   },
   "file_extension": ".py",
   "mimetype": "text/x-python",
   "name": "python",
   "nbconvert_exporter": "python",
   "pygments_lexer": "ipython3",
   "version": "3.10.14"
  }
 },
 "nbformat": 4,
 "nbformat_minor": 2
}
