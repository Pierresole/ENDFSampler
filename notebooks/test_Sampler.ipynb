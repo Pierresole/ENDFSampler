{
 "cells": [
  {
   "cell_type": "code",
   "execution_count": 1,
   "metadata": {},
   "outputs": [
    {
     "name": "stdout",
     "output_type": "stream",
     "text": [
      "Generating sample 1...\n",
      "Generating sample 2...\n",
      "Generating sample 3...\n",
      "Generating sample 4...\n",
      "Generating sample 5...\n",
      "Generating sample 6...\n",
      "Generating sample 7...\n",
      "Generating sample 8...\n",
      "Generating sample 9...\n",
      "Generating sample 10...\n"
     ]
    }
   ],
   "source": [
    "from ENDFSampler import ENDFSampler\n",
    "from ENDFtk.tree import Tape\n",
    "\n",
    "# Read the ENDF file\n",
    "endf_tape = Tape.from_file('/home/sole-pie01/work/ndlib/tendl23-neutron/n-Fe056.tendl.txt')\n",
    "\n",
    "# Create an instance of ENDFSampler\n",
    "sampler = ENDFSampler('covariance_data_Fe56.hdf5', endf_tape)\n",
    "\n",
    "# Generate samples\n",
    "num_samples = 10 \n",
    "sampler.sample(num_samples)  \n"
   ]
  }
 ],
 "metadata": {
  "kernelspec": {
   "display_name": "endftk",
   "language": "python",
   "name": "python3"
  },
  "language_info": {
   "codemirror_mode": {
    "name": "ipython",
    "version": 3
   },
   "file_extension": ".py",
   "mimetype": "text/x-python",
   "name": "python",
   "nbconvert_exporter": "python",
   "pygments_lexer": "ipython3",
   "version": "3.10.14"
  }
 },
 "nbformat": 4,
 "nbformat_minor": 2
}
