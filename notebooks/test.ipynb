{
 "cells": [
  {
   "cell_type": "code",
   "execution_count": 2,
   "metadata": {},
   "outputs": [],
   "source": [
    "import ENDFtk\n",
    "import numpy as np\n",
    "import matplotlib.pyplot as plt\n",
    "\n",
    "import importlib\n",
    "import Samplor\n",
    "importlib.reload(Samplor)\n",
    "from Samplor import NuclearDataSampler\n",
    "\n",
    "\n",
    "# Load the tape and external files\n",
    "tapepath = '/home/sole-pie01/work/ndlib/jeff33-neutron/26-Fe-56g.jeff33'\n",
    "\n",
    "# Create the sampler\n",
    "# sampler = NDS.NuclearDataSampler(tapepath)\n",
    "\n",
    "# # Generate samples\n",
    "# sampler.sample_parameters(n_samples=100)\n",
    "\n",
    "# # Write the sampled tapes\n",
    "# sampler.write_samples()\n"
   ]
  },
  {
   "cell_type": "code",
   "execution_count": 14,
   "metadata": {},
   "outputs": [
    {
     "name": "stdout",
     "output_type": "stream",
     "text": [
      "2631\n",
      "   1\n",
      "   5\n",
      "   8\n",
      "   5\n",
      "    6\n",
      "   5\n",
      "   5\n",
      "   8\n",
      "    6\n",
      "     6\n",
      "      6\n",
      "       6\n",
      "        6\n",
      "         6\n",
      "          6\n",
      "           6\n",
      "            6\n",
      "   5\n",
      "   8\n",
      "    6\n",
      "     6\n",
      "      6\n",
      "       6\n",
      "        6\n",
      "         6\n",
      "          6\n",
      "           6\n",
      "            6\n",
      "   5\n",
      "   8\n",
      "    6\n",
      "     6\n",
      "      6\n",
      "       6\n",
      "        6\n",
      "         6\n",
      "          6\n",
      "           6\n",
      "            6\n",
      "   5\n",
      "   5\n",
      "   8\n",
      "    6\n",
      "     6\n",
      "      6\n",
      "       6\n",
      "        6\n",
      "         6\n",
      "          6\n",
      "           6\n",
      "            6\n",
      "   5\n",
      "   8\n",
      "    6\n",
      "     6\n",
      "      6\n",
      "       6\n",
      "        6\n",
      "         6\n",
      "          6\n",
      "           6\n",
      "            6\n",
      "   5\n",
      "   8\n",
      "    6\n",
      "     6\n",
      "      6\n",
      "       6\n",
      "        6\n",
      "         6\n",
      "          6\n",
      "           6\n",
      "            6\n",
      "   5\n",
      "   8\n",
      "    6\n",
      "     6\n",
      "      6\n",
      "       6\n",
      "        6\n",
      "         6\n",
      "          6\n",
      "           6\n",
      "            6\n",
      "   5\n",
      "   8\n",
      "    6\n",
      "     6\n",
      "      6\n",
      "       6\n",
      "        6\n",
      "         6\n",
      "          6\n",
      "           6\n",
      "            6\n"
     ]
    }
   ],
   "source": [
    "tape = ENDFtk.tree.Tape.from_file(tapepath)\n",
    "# List all the MAT in the current file : tape.material_numbers[:], generally there's only one\n",
    "mf33 = tape.MAT(tape.material_numbers[0]).MF(33).parse()\n",
    "mf33mt1 = tape.MAT(tape.material_numbers[0]).MF(33).MT(1).parse()\n",
    "\n",
    "print(tape.material_numbers[0])\n",
    "# One section of MF33 correspond to 1 reaction XS (rows of matrix) \n",
    "for section in mf33.MTs.to_list():\n",
    "    # Each subsection is another (or same) correlated reaction (cols of matrix)\n",
    "    for sub in section.reactions.to_list():\n",
    "        print(section.MT, sub.MAT1, sub.MT1)\n",
    "        # Each subsection are composed of subsubsections containing matrix components (like the diagonal or a term to add to specific energies)\n",
    "        # All subsub must be added to reconstruct the final explicit matrix \n",
    "        for explicit in sub.explicit_covariances.to_list():\n",
    "            print(explicit.LB) # LB is a flag telling us what type is the component, diagonal, energy part, etc... \n",
    "            \n",
    "        # The covariance matrices involving the “derived” cross sections may be obtained\n",
    "        # in part in terms of the covariance matrices of the \"explicit\" cross sections given elsewhere\n",
    "        for composed in sub.explicit_covariances.to_list():\n",
    "            print(explicit.LTY) # LTY is a flag to interpret the matrix\n",
    "        \n",
    "        \n",
    "    "
   ]
  },
  {
   "cell_type": "code",
   "execution_count": 21,
   "metadata": {},
   "outputs": [
    {
     "name": "stdout",
     "output_type": "stream",
     "text": [
      "0\n",
      "[8, 5]\n"
     ]
    },
    {
     "ename": "AttributeError",
     "evalue": "can't set attribute",
     "output_type": "error",
     "traceback": [
      "\u001b[0;31m---------------------------------------------------------------------------\u001b[0m",
      "\u001b[0;31mAttributeError\u001b[0m                            Traceback (most recent call last)",
      "Cell \u001b[0;32mIn[21], line 28\u001b[0m\n\u001b[1;32m     26\u001b[0m interpolator \u001b[38;5;241m=\u001b[39m XSInterpolator(chunk)\n\u001b[1;32m     27\u001b[0m interpolator\u001b[38;5;241m.\u001b[39mAddRange(interp\u001b[38;5;241m=\u001b[39m\u001b[38;5;241m2\u001b[39m, energies\u001b[38;5;241m=\u001b[39m[\u001b[38;5;241m3\u001b[39m, \u001b[38;5;241m3.5\u001b[39m, \u001b[38;5;241m4\u001b[39m], xs\u001b[38;5;241m=\u001b[39m[\u001b[38;5;241m8\u001b[39m, \u001b[38;5;241m2\u001b[39m, \u001b[38;5;241m9\u001b[39m])\n\u001b[0;32m---> 28\u001b[0m \u001b[43minterpolator\u001b[49m\u001b[38;5;241;43m.\u001b[39;49m\u001b[43msave_to_section\u001b[49m\u001b[43m(\u001b[49m\u001b[43m)\u001b[49m\n\u001b[1;32m     30\u001b[0m plt\u001b[38;5;241m.\u001b[39mloglog(chonk\u001b[38;5;241m.\u001b[39menergies, chonk\u001b[38;5;241m.\u001b[39mcross_sections, marker\u001b[38;5;241m=\u001b[39m\u001b[38;5;124m'\u001b[39m\u001b[38;5;124mo\u001b[39m\u001b[38;5;124m'\u001b[39m, label\u001b[38;5;241m=\u001b[39m\u001b[38;5;124mf\u001b[39m\u001b[38;5;124m\"\u001b[39m\u001b[38;5;124mH1 - MT\u001b[39m\u001b[38;5;132;01m{\u001b[39;00mchonk\u001b[38;5;241m.\u001b[39mMT\u001b[38;5;132;01m}\u001b[39;00m\u001b[38;5;124m\"\u001b[39m)\n\u001b[1;32m     32\u001b[0m \u001b[38;5;66;03m# Finalize the plot\u001b[39;00m\n",
      "File \u001b[0;32m~/my-awesome-thesis/NOTEBOOKS/endftk/NuclearDataSampler/XSI.py:100\u001b[0m, in \u001b[0;36mXSInterpolator.save_to_section\u001b[0;34m(self)\u001b[0m\n\u001b[1;32m     98\u001b[0m \u001b[38;5;28;01mdef\u001b[39;00m \u001b[38;5;21msave_to_section\u001b[39m(\u001b[38;5;28mself\u001b[39m):\n\u001b[1;32m     99\u001b[0m     \u001b[38;5;66;03m# Convert boundaries back to the original format by shifting by +1\u001b[39;00m\n\u001b[0;32m--> 100\u001b[0m     \u001b[38;5;28;43mself\u001b[39;49m\u001b[38;5;241;43m.\u001b[39;49m\u001b[43msection\u001b[49m\u001b[38;5;241;43m.\u001b[39;49m\u001b[43mboundaries\u001b[49m \u001b[38;5;241m=\u001b[39m [b \u001b[38;5;241m+\u001b[39m \u001b[38;5;241m1\u001b[39m \u001b[38;5;28;01mfor\u001b[39;00m b \u001b[38;5;129;01min\u001b[39;00m \u001b[38;5;28mself\u001b[39m\u001b[38;5;241m.\u001b[39mboundaries]\n\u001b[1;32m    101\u001b[0m     \u001b[38;5;28mself\u001b[39m\u001b[38;5;241m.\u001b[39msection\u001b[38;5;241m.\u001b[39menergies \u001b[38;5;241m=\u001b[39m \u001b[38;5;28mself\u001b[39m\u001b[38;5;241m.\u001b[39menergies\n\u001b[1;32m    102\u001b[0m     \u001b[38;5;28mself\u001b[39m\u001b[38;5;241m.\u001b[39msection\u001b[38;5;241m.\u001b[39mxs \u001b[38;5;241m=\u001b[39m \u001b[38;5;28mself\u001b[39m\u001b[38;5;241m.\u001b[39mcross_sections\n",
      "\u001b[0;31mAttributeError\u001b[0m: can't set attribute"
     ]
    },
    {
     "data": {
      "image/png": "[encoded data removed]",
      "text/plain": [
       "<Figure size 640x480 with 1 Axes>"
      ]
     },
     "metadata": {},
     "output_type": "display_data"
    }
   ],
   "source": [
    "import NOTEBOOKS.endftk.NuclearDataSampler.Interpolator as Interpolator\n",
    "importlib.reload(Interpolator)\n",
    "from NOTEBOOKS.endftk.NuclearDataSampler.Interpolator import XSInterpolator \n",
    "\n",
    "from ENDFtk.MF3 import Section\n",
    "\n",
    "chunk = Section( mt = 102,  zaid = 1001, lr = 0, awr = 0.9991673,\n",
    "                    qm = 2.224648e+6, qi = 3.224648e+6,\n",
    "                    interpolants = [ 2], boundaries = [ 6],\n",
    "                    energies = [ 1e-5, 2e-5, 7.5e+5,\n",
    "                                1.9e+7, 1.95e+7, 2e+7 ],\n",
    "                    xs = [ 1.672869e+1, 1.182897e+1, 3.347392e-5,\n",
    "                        2.751761e-5, 2.731301e-5, 2.710792e-5 ] )\n",
    "# print(chunk.to_string(125, 3))\n",
    "# for i, boundary in enumerate(chunk.boundaries[:]):\n",
    "#     print(boundary)\n",
    "\n",
    "chonk = Section( mt = 102,  zaid = 1001, lr = 0, awr = 0.9991673,\n",
    "                 qm = 2.224648e+6, qi = 3.224648e+6,\n",
    "                 interpolants = [5], boundaries = [ 2 ],\n",
    "                 energies = [ 1, 5 ],\n",
    "                 xs = [ 1, 5 ] )\n",
    "\n",
    "plt.loglog(chonk.energies[:], chonk.cross_sections[:], label=f\"H1 - MT{chonk.MT}\")  # Use the file name as the label\n",
    "# Add a new range to create a small \"hump\" in the plot\n",
    "interpolator = XSInterpolator(chunk)\n",
    "interpolator.AddRange(interp=2, energies=[3, 3.5, 4], xs=[8, 2, 9])\n",
    "interpolator.save_to_section()\n",
    "\n",
    "plt.loglog(chonk.energies, chonk.cross_sections, marker='o', label=f\"H1 - MT{chonk.MT}\")\n",
    "\n",
    "# Finalize the plot\n",
    "plt.xlabel('Energy (eV)')\n",
    "plt.ylabel('Cross section (b)')\n",
    "plt.legend()\n",
    "plt.grid(True) \n",
    "plt.show()"
   ]
  },
  {
   "cell_type": "code",
   "execution_count": 73,
   "metadata": {},
   "outputs": [
    {
     "name": "stdout",
     "output_type": "stream",
     "text": [
      "[1.0, 2.0, 3.0, 3, 3.5, 4, 4.0, 5.0, 6.0]\n",
      "[5]\n",
      "[3, 6, 8]\n",
      "[5]\n",
      "[5, 2, 5]\n"
     ]
    },
    {
     "data": {
      "image/png": "[encoded data removed]",
      "text/plain": [
       "<Figure size 640x480 with 1 Axes>"
      ]
     },
     "metadata": {},
     "output_type": "display_data"
    }
   ],
   "source": [
    "import NOTEBOOKS.endftk.NuclearDataSampler.Interpolator as Interpolator\n",
    "importlib.reload(Interpolator)\n",
    "from NOTEBOOKS.endftk.NuclearDataSampler.Interpolator import XSInterpolator \n",
    "\n",
    "# Initialize the original Section\n",
    "original_section = Section(\n",
    "    mt=102, zaid=1001, lr=0, awr=0.9991673,\n",
    "    qm=2.224648e+6, qi=3.224648e+6,\n",
    "    interpolants=[5], boundaries=[6],\n",
    "    energies=[1, 2, 3, 4, 5, 6],\n",
    "    xs=[3, 5, 10, 15, 20, 30]\n",
    ")\n",
    "\n",
    "# Instantiate XSInterpolator with the original section\n",
    "interpolator = XSInterpolator(original_section)\n",
    "\n",
    "# Add a new range to create a small \"hump\" in the plot\n",
    "interpolator.AddRange(interp=2, energies_new=[3, 3.5, 4], xs_new=[7, 8, 9])\n",
    "\n",
    "# Create a new Section with the modified data\n",
    "new_section = interpolator.create_new_section()\n",
    "\n",
    "# Plot the modified section\n",
    "plt.plot(new_section.energies, new_section.cross_sections, marker='o', label=f\"H1 - MT{new_section.MT}\")\n",
    "\n",
    "# Finalize the plot\n",
    "plt.xlabel('Energy (eV)')\n",
    "plt.ylabel('Cross section (b)')\n",
    "plt.legend()\n",
    "plt.grid(True)\n",
    "plt.show()\n"
   ]
  },
  {
   "cell_type": "code",
   "execution_count": 74,
   "metadata": {},
   "outputs": [
    {
     "name": "stdout",
     "output_type": "stream",
     "text": [
      " 1.001000+3 9.991673-1          0          0          0          0 125 3102     \n",
      " 2.224648+6 3.224648+6          0          0          3          9 125 3102     \n",
      "          4          5          7          2          9          5 125 3102     \n",
      " 1.000000+0 3.000000+0 2.000000+0 5.000000+0 3.000000+0 1.000000+1 125 3102     \n",
      " 3.000000+0 7.000000+0 3.500000+0 8.000000+0 4.000000+0 9.000000+0 125 3102     \n",
      " 4.000000+0 1.500000+1 5.000000+0 2.000000+1 6.000000+0 3.000000+1 125 3102     \n",
      "                                                                   125 3  0     \n",
      "\n"
     ]
    }
   ],
   "source": [
    "print(new_section.to_string(125, 3))"
   ]
  },
  {
   "cell_type": "code",
   "execution_count": 76,
   "metadata": {},
   "outputs": [
    {
     "data": {
      "text/plain": [
       "([1.0, 1.125, 1.25, 1.5, 1.75, 2.0],\n",
       " [2.9999999999999996,\n",
       "  3.272042257442243,\n",
       "  3.536230780226193,\n",
       "  4.044775801847516,\n",
       "  4.531395141469561,\n",
       "  4.999999999999999])"
      ]
     },
     "execution_count": 76,
     "metadata": {},
     "output_type": "execute_result"
    }
   ],
   "source": [
    "interpolator.GetLinearizedDataInRange(1, 2)"
   ]
  },
  {
   "cell_type": "code",
   "execution_count": 38,
   "metadata": {},
   "outputs": [
    {
     "name": "stdout",
     "output_type": "stream",
     "text": [
      "[11.828930570527017, 2.5]\n"
     ]
    }
   ],
   "source": [
    "interpolator = XSInterpolator(chunk)\n",
    "print(interpolator.InterpolateAtEnergy(2.5))  # Outputs interpolated [f value, e]"
   ]
  }
 ],
 "metadata": {
  "kernelspec": {
   "display_name": "endftk",
   "language": "python",
   "name": "python3"
  },
  "language_info": {
   "codemirror_mode": {
    "name": "ipython",
    "version": 3
   },
   "file_extension": ".py",
   "mimetype": "text/x-python",
   "name": "python",
   "nbconvert_exporter": "python",
   "pygments_lexer": "ipython3",
   "version": "3.10.14"
  }
 },
 "nbformat": 4,
 "nbformat_minor": 2
}
