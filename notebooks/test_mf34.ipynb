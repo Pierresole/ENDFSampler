{
 "cells": [
  {
   "cell_type": "code",
   "execution_count": 2,
   "metadata": {},
   "outputs": [],
   "source": [
    "from ENDFtk.tree import Tape\n",
    "\n",
    "# Read the ENDF file\n",
    "tape = Tape.from_file('/home/sole-pie01/work/ndlib/tendl23-neutron/n-Fe056.tendl.txt')"
   ]
  },
  {
   "cell_type": "code",
   "execution_count": 3,
   "metadata": {},
   "outputs": [],
   "source": [
    "mf4mt2 = tape.MAT(tape.material_numbers[0]).MF(4).MT(2).parse()\n",
    "mf34mt2 = tape.MAT(tape.material_numbers[0]).MF(34).MT(2).parse()"
   ]
  },
  {
   "cell_type": "code",
   "execution_count": 5,
   "metadata": {},
   "outputs": [
    {
     "data": {
      "text/plain": [
       "2"
      ]
     },
     "execution_count": 5,
     "metadata": {},
     "output_type": "execute_result"
    }
   ],
   "source": [
    "mf34mt2.reactions[0].legendre_blocks[0].LCT\n",
    "mf4mt2.LCT"
   ]
  },
  {
   "cell_type": "code",
   "execution_count": 13,
   "metadata": {},
   "outputs": [
    {
     "data": {
      "text/plain": [
       "[0.0,\n",
       " 0.0,\n",
       " 0.0,\n",
       " 0.0,\n",
       " 0.1568612,\n",
       " 0.1674705,\n",
       " 0.1607869,\n",
       " 0.2171721,\n",
       " 0.2085198,\n",
       " 0.2002254]"
      ]
     },
     "execution_count": 13,
     "metadata": {},
     "output_type": "execute_result"
    }
   ],
   "source": [
    "mf34mt2.reactions[0].legendre_blocks[0].data[0].values[:]"
   ]
  }
 ],
 "metadata": {
  "kernelspec": {
   "display_name": "nd",
   "language": "python",
   "name": "python3"
  },
  "language_info": {
   "codemirror_mode": {
    "name": "ipython",
    "version": 3
   },
   "file_extension": ".py",
   "mimetype": "text/x-python",
   "name": "python",
   "nbconvert_exporter": "python",
   "pygments_lexer": "ipython3",
   "version": "3.11.10"
  }
 },
 "nbformat": 4,
 "nbformat_minor": 2
}
