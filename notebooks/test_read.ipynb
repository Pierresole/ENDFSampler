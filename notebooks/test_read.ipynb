{
 "cells": [
  {
   "cell_type": "code",
   "execution_count": 1,
   "metadata": {},
   "outputs": [],
   "source": [
    "import ENDFtk\n",
    "from ENDFtk import tree\n",
    "import h5py, os\n",
    "import numpy as np\n",
    "import importlib\n",
    "import Extractor, Samplor\n",
    "importlib.reload(Extractor)\n",
    "from Extractor import CovarianceExtractor\n",
    "from Samplor import NuclearDataSampler\n",
    "\n",
    "# List of tapes (file paths or ENDFtk tape objects)\n",
    "tape_list = [\n",
    "    '/home/sole-pie01/work/ndlib/endfb8-neutron/n-026_Fe_055.endf'\n",
    "]\n",
    "\n",
    "# # Name of the HDF5 file to store covariance data\n",
    "# hdf5_filename = 'covariance_data.h5'\n",
    "# os.remove(hdf5_filename)\n",
    "# # Create the CovarianceExtractor\n",
    "# extractor = CovarianceExtractor(tape_list, hdf5_filename)"
   ]
  },
  {
   "cell_type": "code",
   "execution_count": 13,
   "metadata": {},
   "outputs": [
    {
     "data": {
      "text/plain": [
       "12"
      ]
     },
     "execution_count": 13,
     "metadata": {},
     "output_type": "execute_result"
    }
   ],
   "source": [
    "tape = ENDFtk.tree.Tape.from_file( '/home/sole-pie01/work/ndlib/endfb8-neutron/n-026_Fe_055.endf' )\n",
    "# MAT = tape.material_numbers[0]\n",
    "mf32 = tape.MAT(tape.material_numbers[0]).MF(32).MT(151).parse()\n",
    "\n",
    "# Get the size of the matrix (also work with 'covariance_matrix_order' in place of 'NPAR')\n",
    "CompactMultiLevelBreitWigner = mf32.isotopes[0].resonance_ranges[1]\n",
    "CompactMultiLevelBreitWigner.parameters.covariance_matrix.covariance_matrix[:]\n",
    "CompactMultiLevelBreitWigner.parameters.l_values\n"
   ]
  },
  {
   "cell_type": "code",
   "execution_count": 26,
   "metadata": {},
   "outputs": [
    {
     "name": "stdout",
     "output_type": "stream",
     "text": [
      "2\n",
      "[[0.0001 0.     0.     0.     0.     0.     0.     0.     0.     0.\n",
      "  0.     0.    ]\n",
      " [0.     0.01   0.     0.     0.     0.     0.     0.     0.     0.\n",
      "  0.     0.    ]\n",
      " [0.     0.     0.0001 0.     0.     0.     0.     0.     0.     0.\n",
      "  0.     0.    ]\n",
      " [0.     0.     0.     0.01   0.     0.     0.     0.     0.     0.\n",
      "  0.     0.    ]\n",
      " [0.     0.     0.     0.     0.0001 0.     0.     0.     0.     0.\n",
      "  0.     0.    ]\n",
      " [0.     0.     0.     0.     0.     0.01   0.     0.     0.     0.\n",
      "  0.     0.    ]\n",
      " [0.     0.     0.     0.     0.     0.     0.0001 0.     0.     0.\n",
      "  0.     0.    ]\n",
      " [0.     0.     0.     0.     0.     0.     0.     0.01   0.     0.\n",
      "  0.     0.    ]\n",
      " [0.     0.     0.     0.     0.     0.     0.     0.     0.0001 0.\n",
      "  0.     0.    ]\n",
      " [0.     0.     0.     0.     0.     0.     0.     0.     0.     0.01\n",
      "  0.     0.    ]\n",
      " [0.     0.     0.     0.     0.     0.     0.     0.     0.     0.\n",
      "  0.0001 0.    ]\n",
      " [0.     0.     0.     0.     0.     0.     0.     0.     0.     0.\n",
      "  0.     0.01  ]]\n"
     ]
    }
   ],
   "source": [
    "# Get the size of the matrix (also work with 'covariance_matrix_order' in place of 'NPAR')\n",
    "NPAR = mf32.isotopes[0].resonance_ranges[1].parameters.covariance_matrix.NPAR\n",
    "print(mf32.isotopes[0].resonance_ranges[1].parameters.covariance_matrix.MPAR)\n",
    "\n",
    "mf32.isotopes[0].resonance_ranges[1].parameters.co\n",
    "\n",
    "# Initialize an empty matrix\n",
    "cov_matrix = np.zeros((NPAR, NPAR))\n",
    "\n",
    "# Fill the upper triangular part of the matrix\n",
    "i_coef = 0\n",
    "for i in range(NPAR):\n",
    "    for j in range(i, NPAR):\n",
    "        cov_matrix[i, j] = mf32.isotopes[0].resonance_ranges[1].parameters.covariance_matrix.covariance_matrix[i_coef]\n",
    "        cov_matrix[j, i] = cov_matrix[i, j]  # Symmetrize the matrix\n",
    "        i_coef += 1\n",
    "\n",
    "# Print the complete symmetrized covariance matrix\n",
    "print(cov_matrix)"
   ]
  }
 ],
 "metadata": {
  "kernelspec": {
   "display_name": "endftk",
   "language": "python",
   "name": "python3"
  },
  "language_info": {
   "codemirror_mode": {
    "name": "ipython",
    "version": 3
   },
   "file_extension": ".py",
   "mimetype": "text/x-python",
   "name": "python",
   "nbconvert_exporter": "python",
   "pygments_lexer": "ipython3",
   "version": "3.10.14"
  }
 },
 "nbformat": 4,
 "nbformat_minor": 2
}
