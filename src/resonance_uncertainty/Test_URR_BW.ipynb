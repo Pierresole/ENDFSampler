{
 "cells": [
  {
   "cell_type": "code",
   "execution_count": 94,
   "metadata": {},
   "outputs": [],
   "source": [
    "import importlib\n",
    "import URR_BWUncertainty\n",
    "importlib.reload(URR_BWUncertainty)\n",
    "from URR_BWUncertainty import URRBreitWignerUncertainty\n",
    "import URR_BreitWigner\n",
    "importlib.reload(URR_BreitWigner)\n",
    "from ENDFtk.tree import Tape\n",
    "\n",
    "# Read the ENDF file\n",
    "endf_tape = Tape.from_file('/home/sole-pie01/work/ndlib/tendl17-neutron/n-U235-s20.tendl.txt')\n",
    "\n",
    "mf2 = endf_tape.MAT(endf_tape.material_numbers[0]).MF(2).MT(151).parse()\n",
    "mf32 = endf_tape.MAT(endf_tape.material_numbers[0]).MF(32).MT(151).parse()\n",
    "\n",
    "\n",
    "# mf32.isotopes[0].resonance_ranges[1].parameters.covariance_matrix.MPAR\n",
    "\n",
    "# Create an instance of URRBreitWignerUncertainty\n",
    "urr_uncertainty = URRBreitWignerUncertainty(mf32.isotopes[0].resonance_ranges[1], mf2.isotopes[0].resonance_ranges[1], 1)\n",
    "\n",
    "# Sample parameters\n",
    "num_samples = 3\n",
    "for i in range(num_samples):\n",
    "    urr_uncertainty.sample_parameters(mode='replace')\n",
    "    urr_uncertainty.update_tape(endf_tape,1,i)"
   ]
  }
 ],
 "metadata": {
  "kernelspec": {
   "display_name": "endftk",
   "language": "python",
   "name": "python3"
  },
  "language_info": {
   "codemirror_mode": {
    "name": "ipython",
    "version": 3
   },
   "file_extension": ".py",
   "mimetype": "text/x-python",
   "name": "python",
   "nbconvert_exporter": "python",
   "pygments_lexer": "ipython3",
   "version": "3.10.14"
  }
 },
 "nbformat": 4,
 "nbformat_minor": 2
}
